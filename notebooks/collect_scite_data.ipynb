{
 "cells": [
  {
   "cell_type": "code",
   "execution_count": null,
   "metadata": {},
   "outputs": [],
   "source": [
    "%load_ext autoreload\n",
    "%autoreload 2"
   ]
  },
  {
   "cell_type": "code",
   "execution_count": 11,
   "metadata": {},
   "outputs": [],
   "source": [
    "import os\n",
    "from pathlib import Path\n",
    "\n",
    "import pandas as pd\n",
    "from tqdm.auto import tqdm\n",
    "tqdm.pandas()\n",
    "\n",
    "from foobar.PyScite.scite import Scite\n",
    "from foobar import data_dir, als_dir"
   ]
  },
  {
   "cell_type": "markdown",
   "metadata": {},
   "source": [
    "Loading data queried from PMC.\n",
    "\n",
    "The query used was \"...\"."
   ]
  },
  {
   "cell_type": "code",
   "execution_count": 6,
   "metadata": {},
   "outputs": [],
   "source": [
    "# Load ALS DOIs\n",
    "als_dois = pd.read_csv(als_dir / \"all_dois.txt\", names=[\"DOI\"])"
   ]
  },
  {
   "cell_type": "markdown",
   "metadata": {},
   "source": [
    "## Processing of results from Scite"
   ]
  },
  {
   "cell_type": "code",
   "execution_count": 9,
   "metadata": {},
   "outputs": [],
   "source": [
    "SCITE_KEY = os.getenv(\"SCITE_KEY\")\n",
    "TOOL = os.getenv(\"TOOL\")\n",
    "EMAIL = os.getenv(\"EMAIL\")\n",
    "\n",
    "scite = Scite(SCITE_KEY)"
   ]
  },
  {
   "cell_type": "code",
   "execution_count": null,
   "metadata": {},
   "outputs": [],
   "source": [
    "# Collect data\n",
    "results = {}\n",
    "als_sample = pd.read_csv(als_dir / \"als_sample_5000.csv\")\n",
    "sample = als_sample.doi.tolist()\n",
    "\n",
    "for doi in tqdm(sample):\n",
    "    r = scite.doi(doi)\n",
    "    results[doi] = r.json()"
   ]
  },
  {
   "cell_type": "code",
   "execution_count": null,
   "metadata": {},
   "outputs": [],
   "source": [
    "# Export raws\n",
    "raws = pd.DataFrame.from_dict(results).T\n",
    "\n",
    "if \"message\" in raws:\n",
    "    raws = raws[raws.message.isna()]\n",
    "    \n",
    "raws.to_csv(als_dir / \"5000_dois_raws.csv\")"
   ]
  },
  {
   "cell_type": "code",
   "execution_count": 26,
   "metadata": {},
   "outputs": [],
   "source": [
    "raws = pd.read_csv(als_dir / \"5000_dois_raws.csv\", index_col=0)"
   ]
  },
  {
   "cell_type": "markdown",
   "metadata": {},
   "source": [
    "### Extract datasets from raws"
   ]
  },
  {
   "cell_type": "code",
   "execution_count": 50,
   "metadata": {},
   "outputs": [
    {
     "data": {
      "application/vnd.jupyter.widget-view+json": {
       "model_id": "630c5fbe61d44f7cb6d0c3c722655c73",
       "version_major": 2,
       "version_minor": 0
      },
      "text/plain": [
       "HBox(children=(HTML(value=''), FloatProgress(value=0.0, max=5000.0), HTML(value='')))"
      ]
     },
     "metadata": {},
     "output_type": "display_data"
    },
    {
     "name": "stdout",
     "output_type": "stream",
     "text": [
      "\n"
     ]
    }
   ],
   "source": [
    "# citations\n",
    "refs = raws.citations.progress_map(lambda x: pd.DataFrame.from_records(eval(x)))\n",
    "refs = pd.concat(refs.tolist())\n",
    "refs.to_csv(als_dir / \"citations.csv\", index=False)"
   ]
  },
  {
   "cell_type": "code",
   "execution_count": 446,
   "metadata": {},
   "outputs": [
    {
     "data": {
      "text/html": [
       "<div>\n",
       "<style scoped>\n",
       "    .dataframe tbody tr th:only-of-type {\n",
       "        vertical-align: middle;\n",
       "    }\n",
       "\n",
       "    .dataframe tbody tr th {\n",
       "        vertical-align: top;\n",
       "    }\n",
       "\n",
       "    .dataframe thead th {\n",
       "        text-align: right;\n",
       "    }\n",
       "</style>\n",
       "<table border=\"1\" class=\"dataframe\">\n",
       "  <thead>\n",
       "    <tr style=\"text-align: right;\">\n",
       "      <th></th>\n",
       "      <th>id</th>\n",
       "      <th>negative</th>\n",
       "      <th>neutral</th>\n",
       "      <th>positive</th>\n",
       "      <th>refLocation</th>\n",
       "      <th>section</th>\n",
       "      <th>snippet</th>\n",
       "      <th>source</th>\n",
       "      <th>target</th>\n",
       "      <th>type</th>\n",
       "      <th>typeConfidence</th>\n",
       "      <th>expertClassification</th>\n",
       "    </tr>\n",
       "  </thead>\n",
       "  <tbody>\n",
       "    <tr>\n",
       "      <th>6</th>\n",
       "      <td>1820380048</td>\n",
       "      <td>0.010193</td>\n",
       "      <td>1.0</td>\n",
       "      <td>0.011883</td>\n",
       "      <td>b82/1</td>\n",
       "      <td>Differential selection between marine and plum...</td>\n",
       "      <td>Local adaptations related to skeletal organic ...</td>\n",
       "      <td>10.1101/2020.02.25.951905</td>\n",
       "      <td>10.1038/s41396-017-0005-9</td>\n",
       "      <td>mentioning</td>\n",
       "      <td>1.0</td>\n",
       "      <td>NaN</td>\n",
       "    </tr>\n",
       "  </tbody>\n",
       "</table>\n",
       "</div>"
      ],
      "text/plain": [
       "           id  negative  neutral  positive refLocation  \\\n",
       "6  1820380048  0.010193      1.0  0.011883       b82/1   \n",
       "\n",
       "                                             section  \\\n",
       "6  Differential selection between marine and plum...   \n",
       "\n",
       "                                             snippet  \\\n",
       "6  Local adaptations related to skeletal organic ...   \n",
       "\n",
       "                      source                     target        type  \\\n",
       "6  10.1101/2020.02.25.951905  10.1038/s41396-017-0005-9  mentioning   \n",
       "\n",
       "   typeConfidence expertClassification  \n",
       "6             1.0                  NaN  "
      ]
     },
     "execution_count": 446,
     "metadata": {},
     "output_type": "execute_result"
    }
   ],
   "source": [
    "refs[refs.source==\"10.1101/2020.02.25.951905\"]"
   ]
  },
  {
   "cell_type": "code",
   "execution_count": 457,
   "metadata": {},
   "outputs": [
    {
     "data": {
      "text/plain": [
       "10.1038/s41396-017-0005-9      {'10.1101/2020.02.25.951905': {'abstract': '\\n...\n",
       "10.1097/md.0000000000010320    {'10.3389/fncel.2019.00411': {'authors': [{'af...\n",
       "10.3389/fneur.2017.00356                                                      {}\n",
       "10.1194/jlr.m086991            {'10.1042/bcj20190647': {'abstract': 'Choleste...\n",
       "10.1113/jp272591               {'10.1002/mus.26464': {'abstract': '\\nABSTRACT...\n",
       "                                                     ...                        \n",
       "10.1007/978-90-368-1615-1_1                                                   {}\n",
       "10.1177/2054358117725294       {'10.1177/2054358119879777': {'abstract': 'Bac...\n",
       "10.1177/1179069518795874       {'10.1101/683359': {'abstract': '\\nTSC2 inacti...\n",
       "10.1177/0269216318784474       {'10.1016/j.jpainsymman.2019.04.013': {'abstra...\n",
       "10.3791/56102                  {'10.3389/fnins.2018.00494': {'abstract': 'Per...\n",
       "Name: papers, Length: 5000, dtype: object"
      ]
     },
     "execution_count": 457,
     "metadata": {},
     "output_type": "execute_result"
    }
   ],
   "source": [
    "raws.papers."
   ]
  },
  {
   "cell_type": "code",
   "execution_count": 463,
   "metadata": {},
   "outputs": [
    {
     "data": {
      "application/vnd.jupyter.widget-view+json": {
       "model_id": "1c12b233b75640188342c25d51ea9367",
       "version_major": 2,
       "version_minor": 0
      },
      "text/plain": [
       "HBox(children=(HTML(value=''), FloatProgress(value=0.0, max=5000.0), HTML(value='')))"
      ]
     },
     "metadata": {},
     "output_type": "display_data"
    },
    {
     "name": "stdout",
     "output_type": "stream",
     "text": [
      "\n"
     ]
    }
   ],
   "source": [
    "papers = pd.DataFrame()\n",
    "for target, d in tqdm(raws.papers.iteritems(), total=len(raws)):\n",
    "    x = pd.DataFrame.from_dict(eval(d)).T\n",
    "    x[\"target\"] = target\n",
    "    papers = papers.append(x)\n",
    "papers.index=range(0,len(papers))\n",
    "papers.to_csv(als_dir / \"papers.csv\", index=False)"
   ]
  },
  {
   "cell_type": "code",
   "execution_count": 434,
   "metadata": {},
   "outputs": [
    {
     "data": {
      "application/vnd.jupyter.widget-view+json": {
       "model_id": "ded4c2d46fe04ef2955d8f74eb3f0c80",
       "version_major": 2,
       "version_minor": 0
      },
      "text/plain": [
       "HBox(children=(HTML(value=''), FloatProgress(value=0.0, max=5000.0), HTML(value='')))"
      ]
     },
     "metadata": {},
     "output_type": "display_data"
    },
    {
     "name": "stdout",
     "output_type": "stream",
     "text": [
      "\n"
     ]
    }
   ],
   "source": [
    "# tallies\n",
    "citing_articles = pd.DataFrame(index=refs.source.unique())\n",
    "citing_articles = raws.tallies.progress_map(lambda x: pd.DataFrame.from_records(list(eval(x).values())))\n",
    "citing_articles = pd.concat(citing_articles.tolist())\n",
    "citing_articles = citing_articles.drop_duplicates().set_index(\"doi\")\n",
    "citing_articles.to_csv(als_dir / \"tallies.csv\")"
   ]
  },
  {
   "cell_type": "markdown",
   "metadata": {},
   "source": [
    "### Artices"
   ]
  },
  {
   "cell_type": "code",
   "execution_count": 109,
   "metadata": {},
   "outputs": [
    {
     "data": {
      "text/html": [
       "<div>\n",
       "<style scoped>\n",
       "    .dataframe tbody tr th:only-of-type {\n",
       "        vertical-align: middle;\n",
       "    }\n",
       "\n",
       "    .dataframe tbody tr th {\n",
       "        vertical-align: top;\n",
       "    }\n",
       "\n",
       "    .dataframe thead th {\n",
       "        text-align: right;\n",
       "    }\n",
       "</style>\n",
       "<table border=\"1\" class=\"dataframe\">\n",
       "  <thead>\n",
       "    <tr style=\"text-align: right;\">\n",
       "      <th></th>\n",
       "      <th>references</th>\n",
       "      <th>citations</th>\n",
       "    </tr>\n",
       "  </thead>\n",
       "  <tbody>\n",
       "    <tr>\n",
       "      <th>10.1038/s41396-017-0005-9</th>\n",
       "      <td>31.0</td>\n",
       "      <td>16.0</td>\n",
       "    </tr>\n",
       "    <tr>\n",
       "      <th>10.1097/md.0000000000010320</th>\n",
       "      <td>2.0</td>\n",
       "      <td>1.0</td>\n",
       "    </tr>\n",
       "    <tr>\n",
       "      <th>10.3389/fneur.2017.00356</th>\n",
       "      <td>NaN</td>\n",
       "      <td>NaN</td>\n",
       "    </tr>\n",
       "    <tr>\n",
       "      <th>10.1194/jlr.m086991</th>\n",
       "      <td>1.0</td>\n",
       "      <td>1.0</td>\n",
       "    </tr>\n",
       "    <tr>\n",
       "      <th>10.1113/jp272591</th>\n",
       "      <td>30.0</td>\n",
       "      <td>5.0</td>\n",
       "    </tr>\n",
       "    <tr>\n",
       "      <th>...</th>\n",
       "      <td>...</td>\n",
       "      <td>...</td>\n",
       "    </tr>\n",
       "    <tr>\n",
       "      <th>10.1007/978-90-368-1615-1_1</th>\n",
       "      <td>NaN</td>\n",
       "      <td>NaN</td>\n",
       "    </tr>\n",
       "    <tr>\n",
       "      <th>10.1177/2054358117725294</th>\n",
       "      <td>2.0</td>\n",
       "      <td>1.0</td>\n",
       "    </tr>\n",
       "    <tr>\n",
       "      <th>10.1177/1179069518795874</th>\n",
       "      <td>1.0</td>\n",
       "      <td>1.0</td>\n",
       "    </tr>\n",
       "    <tr>\n",
       "      <th>10.1177/0269216318784474</th>\n",
       "      <td>15.0</td>\n",
       "      <td>9.0</td>\n",
       "    </tr>\n",
       "    <tr>\n",
       "      <th>10.3791/56102</th>\n",
       "      <td>1.0</td>\n",
       "      <td>1.0</td>\n",
       "    </tr>\n",
       "  </tbody>\n",
       "</table>\n",
       "<p>5000 rows × 2 columns</p>\n",
       "</div>"
      ],
      "text/plain": [
       "                             references  citations\n",
       "10.1038/s41396-017-0005-9          31.0       16.0\n",
       "10.1097/md.0000000000010320         2.0        1.0\n",
       "10.3389/fneur.2017.00356            NaN        NaN\n",
       "10.1194/jlr.m086991                 1.0        1.0\n",
       "10.1113/jp272591                   30.0        5.0\n",
       "...                                 ...        ...\n",
       "10.1007/978-90-368-1615-1_1         NaN        NaN\n",
       "10.1177/2054358117725294            2.0        1.0\n",
       "10.1177/1179069518795874            1.0        1.0\n",
       "10.1177/0269216318784474           15.0        9.0\n",
       "10.3791/56102                       1.0        1.0\n",
       "\n",
       "[5000 rows x 2 columns]"
      ]
     },
     "execution_count": 109,
     "metadata": {},
     "output_type": "execute_result"
    }
   ],
   "source": [
    "articles = pd.DataFrame(index=raws.index)\n",
    "\n",
    "articles['references'] = refs.groupby(\"target\")[\"source\"].size()\n",
    "articles['citations'] = refs.groupby(\"target\").source.nunique()\n",
    "\n",
    "articles"
   ]
  },
  {
   "cell_type": "code",
   "execution_count": 195,
   "metadata": {},
   "outputs": [],
   "source": [
    "# weighted citations\n",
    "\n",
    "source_target_counts = refs.groupby(\"target\")[\"source\"].value_counts()\n",
    "source_target_counts = source_target_counts.to_frame(\"mentions\").reset_index()"
   ]
  },
  {
   "cell_type": "code",
   "execution_count": 199,
   "metadata": {},
   "outputs": [],
   "source": [
    "# merge with total reference counts for citing articles\n",
    "source_target_counts = source_target_counts.set_index(\"source\").join(citing_articles[\"total\"], how=\"inner\")\n",
    "source_target_counts = source_target_counts.rename(columns={\"total\":\"total_mentions\"})"
   ]
  },
  {
   "cell_type": "code",
   "execution_count": 208,
   "metadata": {},
   "outputs": [],
   "source": [
    "# Calculate the weighted mentions\n",
    "source_target_counts[\"weighted_mentions\"] = source_target_counts[\"mentions\"] / source_target_counts[\"total_mentions\"]"
   ]
  },
  {
   "cell_type": "code",
   "execution_count": 228,
   "metadata": {},
   "outputs": [],
   "source": [
    "# Aggregate weighted_counts\n",
    "articles[\"agg_weighted_refs\"] = source_target_counts.groupby(\"target\")[\"weighted_mentions\"].sum()\n",
    "\n",
    "# Mean weighted_counts\n",
    "articles[\"mean_weighted_refs\"] = source_target_counts.groupby(\"target\")[\"weighted_mentions\"].mean()"
   ]
  },
  {
   "cell_type": "code",
   "execution_count": 233,
   "metadata": {},
   "outputs": [
    {
     "data": {
      "text/html": [
       "<div>\n",
       "<style scoped>\n",
       "    .dataframe tbody tr th:only-of-type {\n",
       "        vertical-align: middle;\n",
       "    }\n",
       "\n",
       "    .dataframe tbody tr th {\n",
       "        vertical-align: top;\n",
       "    }\n",
       "\n",
       "    .dataframe thead th {\n",
       "        text-align: right;\n",
       "    }\n",
       "</style>\n",
       "<table border=\"1\" class=\"dataframe\">\n",
       "  <thead>\n",
       "    <tr style=\"text-align: right;\">\n",
       "      <th></th>\n",
       "      <th>references</th>\n",
       "      <th>citations</th>\n",
       "      <th>agg_weighted_refs</th>\n",
       "      <th>mean_weighted_refs</th>\n",
       "    </tr>\n",
       "  </thead>\n",
       "  <tbody>\n",
       "    <tr>\n",
       "      <th>references</th>\n",
       "      <td>1.000000</td>\n",
       "      <td>0.946791</td>\n",
       "      <td>0.846871</td>\n",
       "      <td>0.152227</td>\n",
       "    </tr>\n",
       "    <tr>\n",
       "      <th>citations</th>\n",
       "      <td>0.946791</td>\n",
       "      <td>1.000000</td>\n",
       "      <td>0.801417</td>\n",
       "      <td>0.030568</td>\n",
       "    </tr>\n",
       "    <tr>\n",
       "      <th>agg_weighted_refs</th>\n",
       "      <td>0.846871</td>\n",
       "      <td>0.801417</td>\n",
       "      <td>1.000000</td>\n",
       "      <td>0.500135</td>\n",
       "    </tr>\n",
       "    <tr>\n",
       "      <th>mean_weighted_refs</th>\n",
       "      <td>0.152227</td>\n",
       "      <td>0.030568</td>\n",
       "      <td>0.500135</td>\n",
       "      <td>1.000000</td>\n",
       "    </tr>\n",
       "  </tbody>\n",
       "</table>\n",
       "</div>"
      ],
      "text/plain": [
       "                    references  citations  agg_weighted_refs  \\\n",
       "references            1.000000   0.946791           0.846871   \n",
       "citations             0.946791   1.000000           0.801417   \n",
       "agg_weighted_refs     0.846871   0.801417           1.000000   \n",
       "mean_weighted_refs    0.152227   0.030568           0.500135   \n",
       "\n",
       "                    mean_weighted_refs  \n",
       "references                    0.152227  \n",
       "citations                     0.030568  \n",
       "agg_weighted_refs             0.500135  \n",
       "mean_weighted_refs            1.000000  "
      ]
     },
     "execution_count": 233,
     "metadata": {},
     "output_type": "execute_result"
    }
   ],
   "source": [
    "articles.corr(method=\"spearman\")"
   ]
  },
  {
   "cell_type": "code",
   "execution_count": 243,
   "metadata": {},
   "outputs": [],
   "source": [
    "df = articles.dropna().rank(ascending=False, pct=True).sort_values(\"mean_weighted_refs\")"
   ]
  },
  {
   "cell_type": "code",
   "execution_count": 278,
   "metadata": {},
   "outputs": [
    {
     "data": {
      "text/html": [
       "<div>\n",
       "<style scoped>\n",
       "    .dataframe tbody tr th:only-of-type {\n",
       "        vertical-align: middle;\n",
       "    }\n",
       "\n",
       "    .dataframe tbody tr th {\n",
       "        vertical-align: top;\n",
       "    }\n",
       "\n",
       "    .dataframe thead th {\n",
       "        text-align: right;\n",
       "    }\n",
       "</style>\n",
       "<table border=\"1\" class=\"dataframe\">\n",
       "  <thead>\n",
       "    <tr style=\"text-align: right;\">\n",
       "      <th></th>\n",
       "      <th>id</th>\n",
       "      <th>negative</th>\n",
       "      <th>neutral</th>\n",
       "      <th>positive</th>\n",
       "      <th>section</th>\n",
       "      <th>snippet</th>\n",
       "      <th>source</th>\n",
       "      <th>target</th>\n",
       "      <th>type</th>\n",
       "      <th>typeConfidence</th>\n",
       "    </tr>\n",
       "  </thead>\n",
       "  <tbody>\n",
       "    <tr>\n",
       "      <th>0</th>\n",
       "      <td>1704316655</td>\n",
       "      <td>0.013982</td>\n",
       "      <td>1.000000</td>\n",
       "      <td>0.009554</td>\n",
       "      <td>Introduction</td>\n",
       "      <td>Osteocytes are derived from terminally differe...</td>\n",
       "      <td>10.1002/jbmr.3944</td>\n",
       "      <td>10.1002/jbmr.320</td>\n",
       "      <td>mentioning</td>\n",
       "      <td>1.000000</td>\n",
       "    </tr>\n",
       "    <tr>\n",
       "      <th>1</th>\n",
       "      <td>1704316657</td>\n",
       "      <td>0.026231</td>\n",
       "      <td>0.979877</td>\n",
       "      <td>0.087343</td>\n",
       "      <td>Introduction</td>\n",
       "      <td>Therefore, because the survival of osteocytes ...</td>\n",
       "      <td>10.1002/jbmr.3944</td>\n",
       "      <td>10.1210/jc.82.9.3128</td>\n",
       "      <td>mentioning</td>\n",
       "      <td>0.979877</td>\n",
       "    </tr>\n",
       "    <tr>\n",
       "      <th>2</th>\n",
       "      <td>1704316658</td>\n",
       "      <td>0.026231</td>\n",
       "      <td>0.979877</td>\n",
       "      <td>0.087343</td>\n",
       "      <td>Introduction</td>\n",
       "      <td>Therefore, because the survival of osteocytes ...</td>\n",
       "      <td>10.1002/jbmr.3944</td>\n",
       "      <td>10.1172/jci2799</td>\n",
       "      <td>mentioning</td>\n",
       "      <td>0.979877</td>\n",
       "    </tr>\n",
       "    <tr>\n",
       "      <th>3</th>\n",
       "      <td>1704316659</td>\n",
       "      <td>0.028239</td>\n",
       "      <td>1.000000</td>\n",
       "      <td>0.030341</td>\n",
       "      <td>Introduction</td>\n",
       "      <td>Glucocorticoid treatment and sex steroid defic...</td>\n",
       "      <td>10.1002/jbmr.3944</td>\n",
       "      <td>10.1002/jbmr.2807</td>\n",
       "      <td>mentioning</td>\n",
       "      <td>1.000000</td>\n",
       "    </tr>\n",
       "    <tr>\n",
       "      <th>4</th>\n",
       "      <td>1704316660</td>\n",
       "      <td>0.024215</td>\n",
       "      <td>1.000000</td>\n",
       "      <td>0.053893</td>\n",
       "      <td>Introduction</td>\n",
       "      <td>Moreover, the osteocyte death observed in the ...</td>\n",
       "      <td>10.1002/jbmr.3944</td>\n",
       "      <td>10.1172/jci6610</td>\n",
       "      <td>mentioning</td>\n",
       "      <td>1.000000</td>\n",
       "    </tr>\n",
       "    <tr>\n",
       "      <th>...</th>\n",
       "      <td>...</td>\n",
       "      <td>...</td>\n",
       "      <td>...</td>\n",
       "      <td>...</td>\n",
       "      <td>...</td>\n",
       "      <td>...</td>\n",
       "      <td>...</td>\n",
       "      <td>...</td>\n",
       "      <td>...</td>\n",
       "      <td>...</td>\n",
       "    </tr>\n",
       "    <tr>\n",
       "      <th>79</th>\n",
       "      <td>1765289424</td>\n",
       "      <td>0.048704</td>\n",
       "      <td>0.934383</td>\n",
       "      <td>0.109974</td>\n",
       "      <td>Discussion</td>\n",
       "      <td>Massive apoptosis has been observed in Tfam kn...</td>\n",
       "      <td>10.1002/jbmr.3944</td>\n",
       "      <td>10.1038/ng0398-231</td>\n",
       "      <td>mentioning</td>\n",
       "      <td>0.934383</td>\n",
       "    </tr>\n",
       "    <tr>\n",
       "      <th>80</th>\n",
       "      <td>1765289425</td>\n",
       "      <td>0.029932</td>\n",
       "      <td>1.000000</td>\n",
       "      <td>0.034638</td>\n",
       "      <td>Discussion</td>\n",
       "      <td>&lt;cite data-doi=\"10.1038/ng0398-231\"&gt;(14)&lt;/cite...</td>\n",
       "      <td>10.1002/jbmr.3944</td>\n",
       "      <td>10.1038/s41598-017-02557-8</td>\n",
       "      <td>mentioning</td>\n",
       "      <td>1.000000</td>\n",
       "    </tr>\n",
       "    <tr>\n",
       "      <th>81</th>\n",
       "      <td>1765289426</td>\n",
       "      <td>0.017366</td>\n",
       "      <td>1.000000</td>\n",
       "      <td>0.011576</td>\n",
       "      <td>Discussion</td>\n",
       "      <td>Of note, our results suggest that irisin has t...</td>\n",
       "      <td>10.1002/jbmr.3944</td>\n",
       "      <td>10.1016/b978-0-12-397166-1.00015-1</td>\n",
       "      <td>mentioning</td>\n",
       "      <td>1.000000</td>\n",
       "    </tr>\n",
       "    <tr>\n",
       "      <th>82</th>\n",
       "      <td>1765289427</td>\n",
       "      <td>0.019405</td>\n",
       "      <td>1.000000</td>\n",
       "      <td>0.048436</td>\n",
       "      <td>Discussion</td>\n",
       "      <td>As for PTH, which exerts both catabolic and an...</td>\n",
       "      <td>10.1002/jbmr.3944</td>\n",
       "      <td>10.1073/pnas.1516622112</td>\n",
       "      <td>mentioning</td>\n",
       "      <td>1.000000</td>\n",
       "    </tr>\n",
       "    <tr>\n",
       "      <th>83</th>\n",
       "      <td>1765289428</td>\n",
       "      <td>0.011157</td>\n",
       "      <td>0.097404</td>\n",
       "      <td>0.902154</td>\n",
       "      <td>Discussion</td>\n",
       "      <td>&lt;cite data-doi=\"10.1073/pnas.1516622112\"&gt;(9)&lt;/...</td>\n",
       "      <td>10.1002/jbmr.3944</td>\n",
       "      <td>10.1016/j.cell.2018.10.025</td>\n",
       "      <td>supporting</td>\n",
       "      <td>0.902154</td>\n",
       "    </tr>\n",
       "  </tbody>\n",
       "</table>\n",
       "<p>84 rows × 10 columns</p>\n",
       "</div>"
      ],
      "text/plain": [
       "            id  negative   neutral  positive       section  \\\n",
       "0   1704316655  0.013982  1.000000  0.009554  Introduction   \n",
       "1   1704316657  0.026231  0.979877  0.087343  Introduction   \n",
       "2   1704316658  0.026231  0.979877  0.087343  Introduction   \n",
       "3   1704316659  0.028239  1.000000  0.030341  Introduction   \n",
       "4   1704316660  0.024215  1.000000  0.053893  Introduction   \n",
       "..         ...       ...       ...       ...           ...   \n",
       "79  1765289424  0.048704  0.934383  0.109974    Discussion   \n",
       "80  1765289425  0.029932  1.000000  0.034638    Discussion   \n",
       "81  1765289426  0.017366  1.000000  0.011576    Discussion   \n",
       "82  1765289427  0.019405  1.000000  0.048436    Discussion   \n",
       "83  1765289428  0.011157  0.097404  0.902154    Discussion   \n",
       "\n",
       "                                              snippet             source  \\\n",
       "0   Osteocytes are derived from terminally differe...  10.1002/jbmr.3944   \n",
       "1   Therefore, because the survival of osteocytes ...  10.1002/jbmr.3944   \n",
       "2   Therefore, because the survival of osteocytes ...  10.1002/jbmr.3944   \n",
       "3   Glucocorticoid treatment and sex steroid defic...  10.1002/jbmr.3944   \n",
       "4   Moreover, the osteocyte death observed in the ...  10.1002/jbmr.3944   \n",
       "..                                                ...                ...   \n",
       "79  Massive apoptosis has been observed in Tfam kn...  10.1002/jbmr.3944   \n",
       "80  <cite data-doi=\"10.1038/ng0398-231\">(14)</cite...  10.1002/jbmr.3944   \n",
       "81  Of note, our results suggest that irisin has t...  10.1002/jbmr.3944   \n",
       "82  As for PTH, which exerts both catabolic and an...  10.1002/jbmr.3944   \n",
       "83  <cite data-doi=\"10.1073/pnas.1516622112\">(9)</...  10.1002/jbmr.3944   \n",
       "\n",
       "                                target        type  typeConfidence  \n",
       "0                     10.1002/jbmr.320  mentioning        1.000000  \n",
       "1                 10.1210/jc.82.9.3128  mentioning        0.979877  \n",
       "2                      10.1172/jci2799  mentioning        0.979877  \n",
       "3                    10.1002/jbmr.2807  mentioning        1.000000  \n",
       "4                      10.1172/jci6610  mentioning        1.000000  \n",
       "..                                 ...         ...             ...  \n",
       "79                  10.1038/ng0398-231  mentioning        0.934383  \n",
       "80          10.1038/s41598-017-02557-8  mentioning        1.000000  \n",
       "81  10.1016/b978-0-12-397166-1.00015-1  mentioning        1.000000  \n",
       "82             10.1073/pnas.1516622112  mentioning        1.000000  \n",
       "83          10.1016/j.cell.2018.10.025  supporting        0.902154  \n",
       "\n",
       "[84 rows x 10 columns]"
      ]
     },
     "execution_count": 278,
     "metadata": {},
     "output_type": "execute_result"
    }
   ],
   "source": [
    "# check reference count\n",
    "doi = \"10.1002/jbmr.3944\"\n",
    "r = scite.citations_all(doi)\n",
    "df = pd.DataFrame.from_dict(r.json()[\"citations\"])\n",
    "df[df.source==\"10.1002/jbmr.3944\"]"
   ]
  }
 ],
 "metadata": {
  "kernelspec": {
   "display_name": "content-based-citations",
   "language": "python",
   "name": "content-based-citations"
  },
  "language_info": {
   "codemirror_mode": {
    "name": "ipython",
    "version": 3
   },
   "file_extension": ".py",
   "mimetype": "text/x-python",
   "name": "python",
   "nbconvert_exporter": "python",
   "pygments_lexer": "ipython3",
   "version": "3.8.2"
  }
 },
 "nbformat": 4,
 "nbformat_minor": 4
}
